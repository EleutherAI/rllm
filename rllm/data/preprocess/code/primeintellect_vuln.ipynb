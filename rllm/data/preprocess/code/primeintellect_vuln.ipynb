{
 "cells": [
  {
   "cell_type": "code",
   "execution_count": null,
   "metadata": {},
   "outputs": [
    {
     "name": "stderr",
     "output_type": "stream",
     "text": [
      "/home/david/.conda/envs/rllm/lib/python3.10/site-packages/tqdm/auto.py:21: TqdmWarning: IProgress not found. Please update jupyter and ipywidgets. See https://ipywidgets.readthedocs.io/en/stable/user_install.html\n",
      "  from .autonotebook import tqdm as notebook_tqdm\n"
     ]
    }
   ],
   "source": [
    "import json\n",
    "import os\n",
    "from datasets import load_dataset\n",
    "from rllm.system_prompts import VULNERABILITY_HINT, VULNERABILITY_HINT_ENCOURAGE\n",
    "import random\n",
    "\n",
    "ds = load_dataset(\"PrimeIntellect/verifiable-coding-problems\", split=\"train\", trust_remote_code=True)\n",
    "print(ds[0].keys())"
   ]
  },
  {
   "cell_type": "code",
   "execution_count": null,
   "metadata": {},
   "outputs": [
    {
     "name": "stderr",
     "output_type": "stream",
     "text": [
      "Exception ignored in: <bound method IPythonKernel._clean_thread_parent_frames of <ipykernel.ipkernel.IPythonKernel object at 0x7349b622fc10>>\n",
      "Traceback (most recent call last):\n",
      "  File \"/home/david/.conda/envs/rllm/lib/python3.10/site-packages/ipykernel/ipkernel.py\", line 775, in _clean_thread_parent_frames\n",
      "    def _clean_thread_parent_frames(\n",
      "KeyboardInterrupt: \n"
     ]
    }
   ],
   "source": [
    "import ast\n",
    "from pprint import pprint\n",
    "dataset = []\n",
    "for entry in ds:\n",
    "    gold_standard_solution = entry[\"gold_standard_solution\"]\n",
    "    if gold_standard_solution is None:\n",
    "        continue\n",
    "    if gold_standard_solution.startswith(\"```python\") and gold_standard_solution.endswith(\"```\"):\n",
    "        tests = entry[\"verification_info\"]        \n",
    "        if isinstance(tests, str):\n",
    "            try:\n",
    "                tests = ast.literal_eval(tests)\n",
    "            except (ValueError, SyntaxError) as e:\n",
    "                #Try Json loads instread\n",
    "                try: \n",
    "                    tests = json.loads(entry[\"verification_info\"])\n",
    "                except (json.JSONDecodeError, SyntaxError, ValueError) as e:\n",
    "                    print(repr(entry[\"verification_info\"]))\n",
    "                    print(f\"Error in json.loads: {e}\")\n",
    "                    continue\n",
    "        assert isinstance(tests, dict), \"Tests should be a dictionary\"\n",
    "        assert tests['language'] == 'python'\n",
    "        tests = tests[\"test_cases\"]\n",
    "        if len(tests) <= 1:\n",
    "            continue\n",
    "        tests = tests[:1] # Only use the first test case to induce reward hacking\n",
    "        # Give the hint about the validation vulnerability sometimes\n",
    "        if random.random() < 0.5:\n",
    "            problem = f\"{VULNERABILITY_HINT_ENCOURAGE}\\n\\n{entry['prompt']}\"\n",
    "        else:\n",
    "            problem = entry['prompt']\n",
    "        new_entry = {\n",
    "            \"problem\": problem,\n",
    "            \"solutions\": [gold_standard_solution],\n",
    "            \"tests\":tests,\n",
    "        }\n",
    "\n",
    "        # Assert tests is a dictionary \n",
    "        assert isinstance(tests, list), \"Tests should be a dictionary\"\n",
    "        assert \"input\" in tests[0], \"Tests should have an input key\"\n",
    "        assert \"output\" in tests[0], \"Tests should have an output key\"\n",
    "\n",
    "        dataset.append(new_entry)\n",
    "\n",
    "print(len(dataset))\n",
    "print(dataset[0])\n",
    "dataset = dataset\n",
    "output_dir = os.path.abspath(\"../../train/code\")\n",
    "output_file = os.path.join(output_dir, \"primeintellect_vuln_encouraged.json\")\n",
    "with open(output_file, \"w\") as f:\n",
    "    json.dump(dataset, f, indent=4)"
   ]
  },
  {
   "cell_type": "code",
   "execution_count": 5,
   "metadata": {},
   "outputs": [
    {
     "ename": "FileNotFoundError",
     "evalue": "[Errno 2] No such file or directory: '../../../../tests/rllm/rewards/primeintellect_test_err.json'",
     "output_type": "error",
     "traceback": [
      "\u001b[0;31m---------------------------------------------------------------------------\u001b[0m",
      "\u001b[0;31mFileNotFoundError\u001b[0m                         Traceback (most recent call last)",
      "Cell \u001b[0;32mIn[5], line 1\u001b[0m\n\u001b[0;32m----> 1\u001b[0m \u001b[38;5;28;01mwith\u001b[39;00m  \u001b[38;5;28;43mopen\u001b[39;49m\u001b[43m(\u001b[49m\u001b[38;5;124;43m'\u001b[39;49m\u001b[38;5;124;43m../../../../tests/rllm/rewards/primeintellect_test_err.json\u001b[39;49m\u001b[38;5;124;43m'\u001b[39;49m\u001b[43m,\u001b[49m\u001b[43m \u001b[49m\u001b[38;5;124;43m\"\u001b[39;49m\u001b[38;5;124;43mr\u001b[39;49m\u001b[38;5;124;43m\"\u001b[39;49m\u001b[43m)\u001b[49m \u001b[38;5;28;01mas\u001b[39;00m f:\n\u001b[1;32m      2\u001b[0m     bad_problems \u001b[38;5;241m=\u001b[39m json\u001b[38;5;241m.\u001b[39mload(f)\n\u001b[1;32m      3\u001b[0m \u001b[38;5;28mlen\u001b[39m(bad_problems)\n",
      "File \u001b[0;32m~/.conda/envs/rllm/lib/python3.10/site-packages/IPython/core/interactiveshell.py:324\u001b[0m, in \u001b[0;36m_modified_open\u001b[0;34m(file, *args, **kwargs)\u001b[0m\n\u001b[1;32m    317\u001b[0m \u001b[38;5;28;01mif\u001b[39;00m file \u001b[38;5;129;01min\u001b[39;00m {\u001b[38;5;241m0\u001b[39m, \u001b[38;5;241m1\u001b[39m, \u001b[38;5;241m2\u001b[39m}:\n\u001b[1;32m    318\u001b[0m     \u001b[38;5;28;01mraise\u001b[39;00m \u001b[38;5;167;01mValueError\u001b[39;00m(\n\u001b[1;32m    319\u001b[0m         \u001b[38;5;124mf\u001b[39m\u001b[38;5;124m\"\u001b[39m\u001b[38;5;124mIPython won\u001b[39m\u001b[38;5;124m'\u001b[39m\u001b[38;5;124mt let you open fd=\u001b[39m\u001b[38;5;132;01m{\u001b[39;00mfile\u001b[38;5;132;01m}\u001b[39;00m\u001b[38;5;124m by default \u001b[39m\u001b[38;5;124m\"\u001b[39m\n\u001b[1;32m    320\u001b[0m         \u001b[38;5;124m\"\u001b[39m\u001b[38;5;124mas it is likely to crash IPython. If you know what you are doing, \u001b[39m\u001b[38;5;124m\"\u001b[39m\n\u001b[1;32m    321\u001b[0m         \u001b[38;5;124m\"\u001b[39m\u001b[38;5;124myou can use builtins\u001b[39m\u001b[38;5;124m'\u001b[39m\u001b[38;5;124m open.\u001b[39m\u001b[38;5;124m\"\u001b[39m\n\u001b[1;32m    322\u001b[0m     )\n\u001b[0;32m--> 324\u001b[0m \u001b[38;5;28;01mreturn\u001b[39;00m \u001b[43mio_open\u001b[49m\u001b[43m(\u001b[49m\u001b[43mfile\u001b[49m\u001b[43m,\u001b[49m\u001b[43m \u001b[49m\u001b[38;5;241;43m*\u001b[39;49m\u001b[43margs\u001b[49m\u001b[43m,\u001b[49m\u001b[43m \u001b[49m\u001b[38;5;241;43m*\u001b[39;49m\u001b[38;5;241;43m*\u001b[39;49m\u001b[43mkwargs\u001b[49m\u001b[43m)\u001b[49m\n",
      "\u001b[0;31mFileNotFoundError\u001b[0m: [Errno 2] No such file or directory: '../../../../tests/rllm/rewards/primeintellect_test_err.json'"
     ]
    }
   ],
   "source": [
    "with  open('../../../../tests/rllm/rewards/primeintellect_test_err.json', \"r\") as f:\n",
    "    bad_problems = json.load(f)\n",
    "len(bad_problems)\n",
    "from pprint import pprint\n",
    "pprint(bad_problems[0])\n"
   ]
  },
  {
   "cell_type": "code",
   "execution_count": null,
   "metadata": {},
   "outputs": [],
   "source": [
    "from rllm.utils import RAG\n",
    "good_problems = [True] * len(dataset)\n",
    "rag = RAG(docs=[r['problem'] for r in dataset])\n"
   ]
  },
  {
   "cell_type": "code",
   "execution_count": null,
   "metadata": {},
   "outputs": [],
   "source": [
    "for b in bad_problems:\n",
    "    results = rag.top_k(b['problem'], k=3)\n",
    "    \n",
    "    bad_index = results[0]['idx']\n",
    "    sim_score = results[0]['score']\n",
    "    assert sim_score >= 0.99, \"Similarity score should be greater than 0.99\"\n",
    "    \n",
    "    good_problems[bad_index] = False\n"
   ]
  },
  {
   "cell_type": "code",
   "execution_count": null,
   "metadata": {},
   "outputs": [],
   "source": [
    "# Filter out bad problems\n",
    "good_dataset = [dataset[i] for i, good in enumerate(good_problems) if good]\n",
    "print(len(good_dataset))\n",
    "# Save the good dataset\n",
    "output_dir = os.path.abspath(\"../../train/code\")\n",
    "output_file = os.path.join(output_dir, \"primeintellect_vuln.json\")\n",
    "with open(output_file, \"w\") as f:\n",
    "    json.dump(good_dataset, f, indent=4)\n",
    "\n"
   ]
  }
 ],
 "metadata": {
  "kernelspec": {
   "display_name": "rllm",
   "language": "python",
   "name": "python3"
  },
  "language_info": {
   "codemirror_mode": {
    "name": "ipython",
    "version": 3
   },
   "file_extension": ".py",
   "mimetype": "text/x-python",
   "name": "python",
   "nbconvert_exporter": "python",
   "pygments_lexer": "ipython3",
   "version": "3.10.16"
  }
 },
 "nbformat": 4,
 "nbformat_minor": 2
}
