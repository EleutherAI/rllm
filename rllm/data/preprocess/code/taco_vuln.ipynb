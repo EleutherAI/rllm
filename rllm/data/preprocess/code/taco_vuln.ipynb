{
 "cells": [
  {
   "cell_type": "code",
   "execution_count": 1,
   "metadata": {},
   "outputs": [
    {
     "name": "stderr",
     "output_type": "stream",
     "text": [
      "/home/david/.conda/envs/rllm/lib/python3.10/site-packages/tqdm/auto.py:21: TqdmWarning: IProgress not found. Please update jupyter and ipywidgets. See https://ipywidgets.readthedocs.io/en/stable/user_install.html\n",
      "  from .autonotebook import tqdm as notebook_tqdm\n"
     ]
    },
    {
     "name": "stdout",
     "output_type": "stream",
     "text": [
      "Dataset({\n",
      "    features: ['id', 'question', 'solutions', 'starter_code', 'input_output', 'difficulty', 'raw_tags', 'name', 'source', 'tags', 'skill_types', 'url', 'Expected Auxiliary Space', 'time_limit', 'date', 'picture_num', 'memory_limit', 'Expected Time Complexity'],\n",
      "    num_rows: 12898\n",
      "})\n"
     ]
    }
   ],
   "source": [
    "import json\n",
    "import os\n",
    "from datasets import load_dataset\n",
    "from rllm.system_prompts import VULNERABILITY_HINT\n",
    "import random\n",
    "\n",
    "ds = load_dataset(\"likaixin/TACO-verified\", split=\"train\", trust_remote_code=True)\n",
    "\n",
    "print(ds)"
   ]
  },
  {
   "cell_type": "code",
   "execution_count": 2,
   "metadata": {},
   "outputs": [],
   "source": [
    "# TACO dataset has difficulties as strings: EASY, MEDIUM, MEDIUM_HARD, HARD, VERY_HARD\n",
    "# Let EASY->1.9, MEDIUM->3.7, MEDIUM_HARD->5.5, HARD->7.3, VERY_HARD->9.1\n",
    "def difficulty_to_int(difficulty):\n",
    "    if difficulty == \"EASY\":\n",
    "        return 1.9\n",
    "    elif difficulty == \"MEDIUM\":\n",
    "        return 3.7\n",
    "    elif difficulty == \"MEDIUM_HARD\":\n",
    "        return 5.5\n",
    "    elif difficulty == \"HARD\":\n",
    "        return 7.3\n",
    "    elif difficulty == \"VERY_HARD\":\n",
    "        return 9.1\n",
    "    else:\n",
    "        #print(\"difficulty\", difficulty)\n",
    "        return -1"
   ]
  },
  {
   "cell_type": "code",
   "execution_count": 3,
   "metadata": {},
   "outputs": [
    {
     "name": "stdout",
     "output_type": "stream",
     "text": [
      "9028\n",
      "{'problem': 'There are $n$ candy boxes in front of Tania. The boxes are arranged in a row from left to right, numbered from $1$ to $n$. The $i$-th box contains $r_i$ candies, candies have the color $c_i$ (the color can take one of three values \\u200b\\u200b— red, green, or blue). All candies inside a single box have the same color (and it is equal to $c_i$).\\n\\nInitially, Tanya is next to the box number $s$. Tanya can move to the neighbor box (that is, with a number that differs by one) or eat candies in the current box. Tanya eats candies instantly, but the movement takes one second.\\n\\nIf Tanya eats candies from the box, then the box itself remains in place, but there is no more candies in it. In other words, Tanya always eats all the candies from the box and candies in the boxes are not refilled.\\n\\nIt is known that Tanya cannot eat candies of the same color one after another (that is, the colors of candies in two consecutive boxes from which she eats candies are always different). In addition, Tanya\\'s appetite is constantly growing, so in each next box from which she eats candies, there should be strictly more candies than in the previous one.\\n\\nNote that for the first box from which Tanya will eat candies, there are no restrictions on the color and number of candies.\\n\\nTanya wants to eat at least $k$ candies. What is the minimum number of seconds she will need? Remember that she eats candies instantly, and time is spent only on movements.\\n\\n\\n-----Input-----\\n\\nThe first line contains three integers $n$, $s$ and $k$ ($1 \\\\le n \\\\le 50$, $1 \\\\le s \\\\le n$, $1 \\\\le k \\\\le 2000$) — number of the boxes, initial position of Tanya and lower bound on number of candies to eat. The following line contains $n$ integers $r_i$ ($1 \\\\le r_i \\\\le 50$) — numbers of candies in the boxes. The third line contains sequence of $n$ letters \\'R\\', \\'G\\' and \\'B\\', meaning the colors of candies in the correspondent boxes (\\'R\\' for red, \\'G\\' for green, \\'B\\' for blue). Recall that each box contains candies of only one color. The third line contains no spaces.\\n\\n\\n-----Output-----\\n\\nPrint minimal number of seconds to eat at least $k$ candies. If solution doesn\\'t exist, print \"-1\".\\n\\n\\n-----Examples-----\\nInput\\n5 3 10\\n1 2 3 4 5\\nRGBRR\\n\\nOutput\\n4\\n\\nInput\\n2 1 15\\n5 6\\nRG\\n\\nOutput\\n-1\\n\\n\\n\\n-----Note-----\\n\\nThe sequence of actions of Tanya for the first example:\\n\\n  move from the box $3$ to the box $2$;  eat candies from the box $2$;  move from the box $2$ to the box $3$;  eat candy from the box $3$;  move from the box $3$ to the box $4$;  move from the box $4$ to the box $5$;  eat candies from the box $5$. \\n\\nSince Tanya eats candy instantly, the required time is four seconds.', 'tests': {'inputs': ['5 3 10\\n1 2 3 4 5\\nRGBRR\\n', '2 1 15\\n5 6\\nRG\\n', '6 1 21\\n4 2 3 5 1 6\\nRGBGRB\\n', '6 1 21\\n6 5 4 3 2 1\\nRGBRGB\\n', '1 1 10\\n10\\nR\\n', '2 1 10\\n5 5\\nRG\\n', '2 1 10\\n5 6\\nRR\\n', '5 3 10\\n1 2 3 4 5\\nRGBRG\\n', '9 1 6\\n1 1 1 3 3 3 2 2 2\\nRGGBRRGBB\\n', '50 39 2000\\n48 43 26 24 46 37 15 30 39 34 4 14 29 34 8 18 40 8 17 37 15 29 2 23 41 7 12 13 36 11 24 22 26 46 11 31 10 46 11 35 6 41 16 50 11 1 46 20 46 28\\nBGBBBBBBRGGBBBRRRRBBGRGGRBBRBBBRBBBBBRRGBGGRRRBBRB\\n', '50 49 1000\\n30 37 34 31 26 44 32 12 36 15 5 5 31 24 17 24 43 19 17 23 45 2 24 17 23 48 20 44 46 44 13 4 29 49 33 41 14 25 46 43 7 47 28 25 2 30 37 37 19 32\\nGBBBRBGRBRBRGRGRBBGBGRRBGGRBGRBRRRRRRRBRGRGGGGBRGG\\n', '50 32 600\\n21 21 18 47 16 11 10 46 9 15 27 5 11 42 29 25 16 41 31 8 12 28 1 24 17 40 45 12 33 32 34 2 45 17 49 17 20 42 15 17 8 29 2 20 4 27 50 1 49 1\\nBBRBBGBGBBRBGRRGRGGGBGBRRBBBGGBBBBGBGBRBBGRRGGBRGR\\n', '50 37 500\\n25 43 15 16 29 23 46 18 15 21 33 26 38 25 2 17 48 50 33 31 3 45 40 12 42 29 37 42 7 11 47 16 44 17 27 46 32 23 14 7 27 25 13 32 43 33 36 39 35 7\\nGGBBRGBRRRRBBRGBRRRGGRGGRGGBRRRGBBRRGRGGRBGBGGRGBR\\n', '50 4 200\\n14 10 50 47 41 9 22 21 42 36 50 10 27 28 39 1 36 12 45 35 17 3 15 25 32 4 34 39 44 34 20 15 18 1 38 25 20 45 24 9 18 15 35 36 12 9 28 4 44 10\\nBGBRRBGBRRRGRGRBRGGGRBRRGBBGGRBRRGGRGGGBRRBRGGBGBG\\n', '50 50 1250\\n1 3 5 7 9 11 13 15 17 19 21 23 25 27 29 31 33 35 37 39 41 43 45 47 49 50 48 46 44 42 40 38 36 34 32 30 28 26 24 22 20 18 16 14 12 10 8 6 4 2\\nRRRRRRRRRRRRRRRRRRRRRRRRRGGGGGGGGGGGGGGGGGGGGGGGGG\\n', '30 28 208\\n3 42 42 47 46 44 5 28 35 28 35 44 25 44 47 3 3 35 28 5 3 42 3 46 25 25 5 47 46 3\\nBGBBGBBBBGRRGGGBRGRGRRGBBRRRRG\\n', '39 21 282\\n13 39 20 29 30 14 29 29 30 29 16 39 50 13 16 45 36 36 13 20 29 21 34 36 39 30 34 21 20 14 16 45 21 45 29 34 50 50 14\\nGGGBRRGRBGBRRBRGRBRBBGBGBGRRRGGRBBRGBGB\\n', '48 2 259\\n25 31 22 30 30 17 31 50 28 30 46 43 4 6 10 22 50 14 5 46 12 6 46 3 17 12 4 28 25 14 5 5 6 14 22 12 17 43 43 10 4 3 31 3 25 28 50 10\\nBBBBGGRRBRRBBRGGGBGGRGBRBGRGRGRBBRRBRRGBGBGGGRBR\\n', '48 25 323\\n39 37 32 4 4 32 18 44 49 4 12 12 12 22 22 37 38 32 24 45 44 37 18 39 45 22 24 22 45 39 4 22 24 22 12 49 4 29 18 38 29 29 38 44 12 12 49 4\\nRRRRRBRRGBBRGRGGBGGBGBBBRBRGGGGBBRGRBGGGRBRBBRBG\\n', '48 33 357\\n18 37 22 21 4 17 39 32 40 43 29 29 50 21 39 43 11 11 4 50 36 40 32 50 18 32 11 36 29 36 22 21 29 43 49 18 17 29 37 40 17 37 49 4 39 49 22 29\\nGRGGGGBRBRRGGRGBRGBBGRBRRGBBRRBBBGRBBBBGRGGRRBRG\\n', '50 50 2000\\n1 3 5 7 9 11 13 15 17 19 21 23 25 27 29 31 33 35 37 39 41 43 45 47 49 50 48 46 44 42 40 38 36 34 32 30 28 26 24 22 20 18 16 14 12 10 8 6 4 2\\nGRGRGBBGGRGGRRRGGBGGGRRRBGRRBGBRGBBGGGGRRGGBBRRRRG\\n', '30 28 208\\n3 42 42 47 46 44 5 28 35 28 35 44 25 44 47 3 3 35 28 5 3 42 3 46 25 25 5 47 46 3\\nBGBBGBBBBGRRGGGBRGRGRRGBBRRRRG\\n', '50 39 2000\\n48 43 26 24 46 37 15 30 39 34 4 14 29 34 8 18 40 8 17 37 15 29 2 23 41 7 12 13 36 11 24 22 26 46 11 31 10 46 11 35 6 41 16 50 11 1 46 20 46 28\\nBGBBBBBBRGGBBBRRRRBBGRGGRBBRBBBRBBBBBRRGBGGRRRBBRB\\n', '50 32 600\\n21 21 18 47 16 11 10 46 9 15 27 5 11 42 29 25 16 41 31 8 12 28 1 24 17 40 45 12 33 32 34 2 45 17 49 17 20 42 15 17 8 29 2 20 4 27 50 1 49 1\\nBBRBBGBGBBRBGRRGRGGGBGBRRBBBGGBBBBGBGBRBBGRRGGBRGR\\n', '48 2 259\\n25 31 22 30 30 17 31 50 28 30 46 43 4 6 10 22 50 14 5 46 12 6 46 3 17 12 4 28 25 14 5 5 6 14 22 12 17 43 43 10 4 3 31 3 25 28 50 10\\nBBBBGGRRBRRBBRGGGBGGRGBRBGRGRGRBBRRBRRGBGBGGGRBR\\n', '1 1 10\\n10\\nR\\n', '9 1 6\\n1 1 1 3 3 3 2 2 2\\nRGGBRRGBB\\n', '5 3 10\\n1 2 3 4 5\\nRGBRG\\n', '6 1 21\\n6 5 4 3 2 1\\nRGBRGB\\n', '2 1 10\\n5 5\\nRG\\n', '2 1 10\\n5 6\\nRR\\n', '50 50 2000\\n1 3 5 7 9 11 13 15 17 19 21 23 25 27 29 31 33 35 37 39 41 43 45 47 49 50 48 46 44 42 40 38 36 34 32 30 28 26 24 22 20 18 16 14 12 10 8 6 4 2\\nGRGRGBBGGRGGRRRGGBGGGRRRBGRRBGBRGBBGGGGRRGGBBRRRRG\\n', '48 33 357\\n18 37 22 21 4 17 39 32 40 43 29 29 50 21 39 43 11 11 4 50 36 40 32 50 18 32 11 36 29 36 22 21 29 43 49 18 17 29 37 40 17 37 49 4 39 49 22 29\\nGRGGGGBRBRRGGRGBRGBBGRBRRGBBRRBBBGRBBBBGRGGRRBRG\\n', '48 25 323\\n39 37 32 4 4 32 18 44 49 4 12 12 12 22 22 37 38 32 24 45 44 37 18 39 45 22 24 22 45 39 4 22 24 22 12 49 4 29 18 38 29 29 38 44 12 12 49 4\\nRRRRRBRRGBBRGRGGBGGBGBBBRBRGGGGBBRGRBGGGRBRBBRBG\\n', '39 21 282\\n13 39 20 29 30 14 29 29 30 29 16 39 50 13 16 45 36 36 13 20 29 21 34 36 39 30 34 21 20 14 16 45 21 45 29 34 50 50 14\\nGGGBRRGRBGBRRBRGRBRBBGBGBGRRRGGRBBRGBGB\\n', '50 49 1000\\n30 37 34 31 26 44 32 12 36 15 5 5 31 24 17 24 43 19 17 23 45 2 24 17 23 48 20 44 46 44 13 4 29 49 33 41 14 25 46 43 7 47 28 25 2 30 37 37 19 32\\nGBBBRBGRBRBRGRGRBBGBGRRBGGRBGRBRRRRRRRBRGRGGGGBRGG\\n', '50 4 200\\n14 10 50 47 41 9 22 21 42 36 50 10 27 28 39 1 36 12 45 35 17 3 15 25 32 4 34 39 44 34 20 15 18 1 38 25 20 45 24 9 18 15 35 36 12 9 28 4 44 10\\nBGBRRBGBRRRGRGRBRGGGRBRRGBBGGRBRRGGRGGGBRRBRGGBGBG\\n', '6 1 21\\n4 2 3 5 1 6\\nRGBGRB\\n', '50 37 500\\n25 43 15 16 29 23 46 18 15 21 33 26 38 25 2 17 48 50 33 31 3 45 40 12 42 29 37 42 7 11 47 16 44 17 27 46 32 23 14 7 27 25 13 32 43 33 36 39 35 7\\nGGBBRGBRRRRBBRGBRRRGGRGGRGGBRRRGBBRRGRGGRBGBGGRGBR\\n', '50 50 1250\\n1 3 5 7 9 11 13 15 17 19 21 23 25 27 29 31 33 35 37 39 41 43 45 47 49 50 48 46 44 42 40 38 36 34 32 30 28 26 24 22 20 18 16 14 12 10 8 6 4 2\\nRRRRRRRRRRRRRRRRRRRRRRRRRGGGGGGGGGGGGGGGGGGGGGGGGG\\n', '50 39 2000\\n48 43 26 24 46 37 15 30 39 34 4 14 29 34 8 18 40 8 17 37 15 29 2 23 41 7 12 13 36 11 24 22 26 46 11 31 1 46 11 35 6 41 16 50 11 1 46 20 46 28\\nBGBBBBBBRGGBBBRRRRBBGRGGRBBRBBBRBBBBBRRGBGGRRRBBRB\\n', '48 2 259\\n25 31 22 30 30 17 31 50 28 30 46 43 4 6 10 22 50 14 5 46 12 6 46 3 17 12 4 28 25 21 5 5 6 14 22 12 17 43 43 10 4 3 31 3 25 28 50 10\\nBBBBGGRRBRRBBRGGGBGGRGBRBGRGRGRBBRRBRRGBGBGGGRBR\\n', '9 1 6\\n1 1 2 3 3 3 2 2 2\\nRGGBRRGBB\\n', '2 1 10\\n9 5\\nRG\\n', '48 33 357\\n18 37 22 21 4 17 39 32 40 43 29 29 50 21 39 43 11 11 4 50 36 40 32 50 18 32 11 36 29 36 22 21 29 43 49 18 17 29 37 40 17 37 2 4 39 49 22 29\\nGRGGGGBRBRRGGRGBRGBBGRBRRGBBRRBBBGRBBBBGRGGRRBRG\\n', '39 21 282\\n13 39 20 29 30 14 29 29 30 29 16 39 50 13 16 45 36 36 13 10 29 21 34 36 39 30 34 21 20 14 16 45 21 45 29 34 50 50 14\\nGGGBRRGRBGBRRBRGRBRBBGBGBGRRRGGRBBRGBGB\\n', '50 37 500\\n25 43 15 16 29 23 46 18 15 21 33 26 38 25 2 17 48 50 33 31 3 23 40 12 42 29 37 42 7 11 47 16 44 17 27 46 32 23 14 7 27 25 13 32 43 33 36 39 35 7\\nGGBBRGBRRRRBBRGBRRRGGRGGRGGBRRRGBBRRGRGGRBGBGGRGBR\\n', '39 36 282\\n13 39 20 29 30 14 29 29 30 29 16 39 50 13 16 45 36 36 13 10 29 21 34 36 39 30 34 21 20 14 16 45 21 45 29 34 50 50 14\\nGGGBRRGRBGBRRBRGRBRBBGBGBGRRRGGRBBRGBGB\\n', '30 28 208\\n3 42 42 47 46 12 5 28 35 28 35 44 25 44 47 3 3 35 28 5 3 42 3 46 25 25 5 47 46 3\\nBGBBGBBBBGRRGGGBRGRGRRGBBRRRRG\\n', '9 1 6\\n1 1 1 3 3 6 2 2 2\\nRGGBRRGBB\\n', '5 3 10\\n1 2 4 4 5\\nRGBRG\\n', '39 21 282\\n13 39 20 29 30 14 29 29 30 29 16 39 50 13 16 45 36 36 13 20 44 21 34 36 39 30 34 21 20 14 16 45 21 45 29 34 50 50 14\\nGGGBRRGRBGBRRBRGRBRBBGBGBGRRRGGRBBRGBGB\\n', '50 4 200\\n14 10 50 47 41 9 22 21 42 36 50 10 27 28 39 1 36 12 45 35 17 3 15 25 32 4 34 39 44 34 20 15 18 1 38 25 20 3 24 9 18 15 35 36 12 9 28 4 44 10\\nBGBRRBGBRRRGRGRBRGGGRBRRGBBGGRBRRGGRGGGBRRBRGGBGBG\\n', '6 1 21\\n6 5 4 3 4 1\\nRGBRGB\\n', '50 50 2000\\n1 3 5 7 9 11 13 15 32 19 21 23 25 27 29 31 33 35 37 39 41 43 45 47 49 50 48 46 44 42 40 38 36 34 32 30 28 26 24 22 20 18 16 14 12 10 8 6 4 2\\nGRGRGBBGGRGGRRRGGBGGGRRRBGRRBGBRGBBGGGGRRGGBBRRRRG\\n', '50 49 1000\\n30 37 34 31 26 44 32 12 36 15 5 5 31 24 17 24 43 19 17 23 45 2 24 17 23 48 20 44 46 44 13 4 29 49 23 41 14 25 46 43 7 47 28 25 2 30 37 37 19 32\\nGBBBRBGRBRBRGRGRBBGBGRRBGGRBGRBRRRRRRRBRGRGGGGBRGG\\n', '6 1 21\\n4 2 3 5 1 6\\nRGBRGB\\n', '50 50 1250\\n1 3 5 7 9 11 13 15 17 19 21 23 25 27 29 31 33 35 37 39 41 43 45 47 49 50 48 11 44 42 40 38 36 34 32 30 28 26 24 22 20 18 16 14 12 10 8 6 4 2\\nRRRRRRRRRRRRRRRRRRRRRRRRRGGGGGGGGGGGGGGGGGGGGGGGGG\\n', '2 1 24\\n5 6\\nRG\\n', '48 2 259\\n25 31 22 30 30 17 31 50 28 30 46 43 4 6 10 22 50 27 5 46 12 6 46 3 17 12 4 28 25 21 5 5 6 14 22 12 17 43 43 10 4 3 31 3 25 28 50 10\\nBBBBGGRRBRRBBRGGGBGGRGBRBGRGRGRBBRRBRRGBGBGGGRBR\\n', '9 1 6\\n1 1 2 5 3 3 2 2 2\\nRGGBRRGBB\\n', '50 50 2000\\n1 3 5 7 9 11 13 15 32 19 21 23 25 27 29 31 33 35 37 39 41 43 45 47 49 50 48 46 44 42 40 46 36 34 32 30 28 26 24 22 20 18 16 14 12 10 8 6 4 2\\nGRGRGBBGGRGGRRRGGBGGGRRRBGRRBGBRGBBGGGGRRGGBBRRRRG\\n', '50 49 1000\\n30 37 34 31 26 44 32 12 36 15 5 5 31 24 17 24 43 19 17 23 45 2 24 17 23 48 20 44 46 44 13 4 29 49 23 15 14 25 46 43 7 47 28 25 2 30 37 37 19 32\\nGBBBRBGRBRBRGRGRBBGBGRRBGGRBGRBRRRRRRRBRGRGGGGBRGG\\n', '6 1 21\\n4 2 3 5 1 6\\nBGRBGR\\n', '50 50 1250\\n1 3 5 7 9 11 13 15 17 19 21 23 25 27 29 31 33 35 37 39 41 43 45 47 49 50 48 11 44 42 40 38 36 34 32 44 28 26 24 22 20 18 16 14 12 10 8 6 4 2\\nRRRRRRRRRRRRRRRRRRRRRRRRRGGGGGGGGGGGGGGGGGGGGGGGGG\\n', '9 1 6\\n1 1 1 5 3 3 2 2 2\\nRGGBRRGBB\\n', '50 50 2000\\n1 3 5 7 9 11 13 15 32 19 21 32 25 27 29 31 33 35 37 39 41 43 45 47 49 50 48 46 44 42 40 46 36 34 32 30 28 26 24 22 20 18 16 14 12 10 8 6 4 2\\nGRGRGBBGGRGGRRRGGBGGGRRRBGRRBGBRGBBGGGGRRGGBBRRRRG\\n', '39 36 282\\n13 39 20 29 30 14 29 29 30 29 16 39 50 13 16 45 36 36 13 10 29 21 34 36 39 30 34 21 21 14 16 45 21 45 29 34 50 50 14\\nGGGBRRGRBGBRRBRGRBRBBGBGBGRRRGGRBBRGBGB\\n', '50 49 1000\\n30 37 34 31 26 44 32 12 36 15 5 5 31 24 17 24 43 19 17 23 45 2 24 17 23 48 20 44 46 44 13 4 29 49 23 15 14 25 46 43 7 47 28 50 2 30 37 37 19 32\\nGBBBRBGRBRBRGRGRBBGBGRRBGGRBGRBRRRRRRRBRGRGGGGBRGG\\n', '6 1 21\\n5 2 3 5 1 6\\nBGRBGR\\n', '50 50 1250\\n1 3 5 7 9 11 13 15 17 19 21 23 25 27 29 31 33 35 37 39 41 43 45 47 49 50 48 11 44 42 40 38 36 34 32 44 28 26 24 22 20 18 16 14 12 10 8 6 4 2\\nGGGGGGGGGGGGGGGGGGGGGGGGGRRRRRRRRRRRRRRRRRRRRRRRRR\\n', '9 1 6\\n1 1 1 5 3 1 2 2 2\\nRGGBRRGBB\\n', '50 50 2000\\n1 3 5 7 9 11 13 15 32 19 21 32 25 27 29 31 33 35 37 39 41 43 45 47 49 50 48 46 44 42 40 46 36 34 32 30 28 26 24 22 20 18 16 14 12 10 1 6 4 2\\nGRGRGBBGGRGGRRRGGBGGGRRRBGRRBGBRGBBGGGGRRGGBBRRRRG\\n', '50 49 1000\\n30 37 34 31 26 44 32 12 36 15 5 5 31 24 17 24 43 19 17 23 45 2 24 17 23 48 20 44 46 44 13 4 40 49 23 15 14 25 46 43 7 47 28 50 2 30 37 37 19 32\\nGBBBRBGRBRBRGRGRBBGBGRRBGGRBGRBRRRRRRRBRGRGGGGBRGG\\n', '50 50 1250\\n1 3 5 7 9 11 13 15 17 17 21 23 25 27 29 31 33 35 37 39 41 43 45 47 49 50 48 11 44 42 40 38 36 34 32 44 28 26 24 22 20 18 16 14 12 10 8 6 4 2\\nGGGGGGGGGGGGGGGGGGGGGGGGGRRRRRRRRRRRRRRRRRRRRRRRRR\\n', '9 1 6\\n1 1 1 5 3 1 4 2 2\\nRGGBRRGBB\\n', '50 50 2000\\n1 3 7 7 9 11 13 15 32 19 21 32 25 27 29 31 33 35 37 39 41 43 45 47 49 50 48 46 44 42 40 46 36 34 32 30 28 26 24 22 20 18 16 14 12 10 1 6 4 2\\nGRGRGBBGGRGGRRRGGBGGGRRRBGRRBGBRGBBGGGGRRGGBBRRRRG\\n', '50 50 2000\\n1 3 7 7 9 11 13 15 32 19 21 32 25 27 29 31 33 35 37 39 41 43 45 47 49 50 48 46 44 42 40 46 36 34 32 30 28 26 24 22 20 18 16 14 12 10 1 10 4 2\\nGRGRGBBGGRGGRRRGGBGGGRRRBGRRBGBRGBBGGGGRRGGBBRRRRG\\n', '50 50 2000\\n1 3 7 7 9 11 13 15 32 19 21 32 25 10 29 31 33 35 37 39 41 43 45 47 49 50 48 46 44 42 40 46 36 34 32 30 28 26 24 22 20 18 16 14 12 10 1 10 4 2\\nGRGRGBBGGRGGRRRGGBGGGRRRBGRRBGBRGBBGGGGRRGGBBRRRRG\\n', '50 50 2000\\n1 3 7 7 9 11 13 15 32 19 21 32 25 10 29 31 33 35 37 39 41 43 45 47 49 50 48 46 44 42 40 46 36 34 32 30 28 26 24 22 20 18 16 14 12 10 1 10 6 2\\nGRGRGBBGGRGGRRRGGBGGGRRRBGRRBGBRGBBGGGGRRGGBBRRRRG\\n', '50 39 2000\\n48 43 26 24 46 37 15 30 39 34 4 14 29 34 8 18 40 8 17 40 15 29 2 23 41 7 12 13 36 11 24 22 26 46 11 31 10 46 11 35 6 41 16 50 11 1 46 20 46 28\\nBGBBBBBBRGGBBBRRRRBBGRGGRBBRBBBRBBBBBRRGBGGRRRBBRB\\n', '48 2 259\\n25 31 22 30 30 17 31 50 28 30 46 43 4 6 10 22 50 14 5 46 12 6 46 4 17 12 4 28 25 14 5 5 6 14 22 12 17 43 43 10 4 3 31 3 25 28 50 10\\nBBBBGGRRBRRBBRGGGBGGRGBRBGRGRGRBBRRBRRGBGBGGGRBR\\n', '1 1 20\\n10\\nR\\n', '2 1 16\\n5 5\\nRG\\n', '2 1 10\\n1 6\\nRR\\n', '50 50 2000\\n1 3 5 7 9 11 13 15 17 19 21 23 25 27 29 31 33 35 37 39 41 7 45 47 49 50 48 46 44 42 40 38 36 34 32 30 28 26 24 22 20 18 16 14 12 10 8 6 4 2\\nGRGRGBBGGRGGRRRGGBGGGRRRBGRRBGBRGBBGGGGRRGGBBRRRRG\\n', '48 33 357\\n18 37 22 21 4 17 39 32 40 43 29 29 50 21 39 43 11 11 4 50 36 40 32 50 18 32 11 36 29 36 22 21 29 43 49 18 17 29 37 40 17 43 49 4 39 49 22 29\\nGRGGGGBRBRRGGRGBRGBBGRBRRGBBRRBBBGRBBBBGRGGRRBRG\\n', '50 49 1000\\n30 37 34 31 26 44 32 12 36 15 5 5 31 24 17 24 43 19 17 23 45 2 31 17 23 48 20 44 46 44 13 4 29 49 33 41 14 25 46 43 7 47 28 25 2 30 37 37 19 32\\nGBBBRBGRBRBRGRGRBBGBGRRBGGRBGRBRRRRRRRBRGRGGGGBRGG\\n', '6 1 21\\n4 2 3 2 1 6\\nRGBGRB\\n', '50 50 1250\\n1 3 5 7 9 11 13 15 17 19 21 1 25 27 29 31 33 35 37 39 41 43 45 47 49 50 48 46 44 42 40 38 36 34 32 30 28 26 24 22 20 18 16 14 12 10 8 6 4 2\\nRRRRRRRRRRRRRRRRRRRRRRRRRGGGGGGGGGGGGGGGGGGGGGGGGG\\n', '2 1 15\\n5 1\\nRG\\n', '50 39 2000\\n48 43 26 24 46 37 15 30 36 34 4 14 29 34 8 18 40 8 17 37 15 29 2 23 41 7 12 13 36 11 24 22 26 46 11 31 1 46 11 35 6 41 16 50 11 1 46 20 46 28\\nBGBBBBBBRGGBBBRRRRBBGRGGRBBRBBBRBBBBBRRGBGGRRRBBRB\\n', '2 1 15\\n5 6\\nRG\\n', '5 3 10\\n1 2 3 4 5\\nRGBRR\\n'], 'outputs': ['4\\n', '-1\\n', '15\\n', '10\\n', '0\\n', '-1\\n', '-1\\n', '2\\n', '7\\n', '-1\\n', '-1\\n', '185\\n', '86\\n', '23\\n', '992\\n', '20\\n', '24\\n', '39\\n', '64\\n', '63\\n', '-1\\n', '20\\n', '-1\\n', '185\\n', '39\\n', '0\\n', '7\\n', '2\\n', '10\\n', '-1\\n', '-1\\n', '-1\\n', '63\\n', '64\\n', '24\\n', '-1\\n', '23\\n', '15\\n', '86\\n', '992', '-1\\n', '39\\n', '3\\n', '2\\n', '63\\n', '24\\n', '86\\n', '31\\n', '20\\n', '5\\n', '4\\n', '28\\n', '23\\n', '-1\\n', '-1\\n', '-1\\n', '-1\\n', '-1\\n', '-1\\n', '39\\n', '3\\n', '-1\\n', '-1\\n', '-1\\n', '-1\\n', '3\\n', '-1\\n', '31\\n', '-1\\n', '-1\\n', '-1\\n', '3\\n', '-1\\n', '-1\\n', '-1\\n', '3\\n', '-1\\n', '-1\\n', '-1\\n', '-1\\n', '-1\\n', '39\\n', '-1\\n', '-1\\n', '-1\\n', '-1\\n', '63\\n', '-1\\n', '-1\\n', '-1\\n', '-1\\n', '-1\\n', '-1\\n', '4\\n']}, 'solutions': [\"INF = 10000000000.0\\nmax_n = 50\\nmax_k = 2000\\n\\ndef main():\\n\\t(n, s, k) = map(int, input().split())\\n\\ts -= 1\\n\\tbuf = [''] * (max_n + 1)\\n\\tdp = [[0 for i in range(max_n + 1)] for j in range(max_k + 1)]\\n\\tr = list(map(int, input().split()))\\n\\tc = input()\\n\\tanswer = INF\\n\\tfor i in range(len(c)):\\n\\t\\tbuf[i] = c[i]\\n\\tfor i in range(k, -1, -1):\\n\\t\\tfor j in range(n):\\n\\t\\t\\tdp[i][j] = INF\\n\\tfor j in range(n):\\n\\t\\tvalue = abs(j - s)\\n\\t\\tif k - r[j] <= 0:\\n\\t\\t\\tanswer = min(answer, value)\\n\\t\\telse:\\n\\t\\t\\tdp[k - r[j]][j] = value\\n\\tfor i in range(k, 0, -1):\\n\\t\\tfor j in range(n):\\n\\t\\t\\tif dp[i][j] < INF:\\n\\t\\t\\t\\tfor l in range(n):\\n\\t\\t\\t\\t\\tif buf[j] != buf[l] and r[j] < r[l]:\\n\\t\\t\\t\\t\\t\\tvalue = dp[i][j] + abs(j - l)\\n\\t\\t\\t\\t\\t\\tif i - r[l] <= 0:\\n\\t\\t\\t\\t\\t\\t\\tanswer = min(answer, value)\\n\\t\\t\\t\\t\\t\\telse:\\n\\t\\t\\t\\t\\t\\t\\tdp[i - r[l]][l] = min(dp[i - r[l]][l], value)\\n\\tif answer == INF:\\n\\t\\tprint(-1)\\n\\t\\treturn\\n\\tprint(answer)\\n\\ndef __starting_point():\\n\\tmain()\\n__starting_point()\\n\", \"(n, s, k) = map(int, input().split())\\ns -= 1\\nr = list(map(int, input().split()))\\nINF = float('inf')\\nc = input()\\ndp = [[] for i in range(n)]\\n\\ndef calc(u):\\n\\tif dp[u]:\\n\\t\\treturn\\n\\tdp[u] = [0] * (r[u] + 1) + [INF] * (k - r[u])\\n\\tfor i in range(n):\\n\\t\\tif c[u] != c[i] and r[i] > r[u]:\\n\\t\\t\\tcalc(i)\\n\\t\\t\\td = abs(u - i)\\n\\t\\t\\tfor j in range(r[u] + 1, k + 1):\\n\\t\\t\\t\\tdp[u][j] = min(dp[u][j], dp[i][j - r[u]] + d)\\nans = INF\\nfor i in range(n):\\n\\tcalc(i)\\n\\tans = min(ans, abs(i - s) + dp[i][k])\\nif ans == INF:\\n\\tprint(-1)\\nelse:\\n\\tprint(ans)\\n\", 'import math\\n\\ndef solve():\\n\\t(n, s, k) = map(int, input().split())\\n\\ts -= 1\\n\\tr = list(map(int, input().split()))\\n\\tc = input()\\n\\tinf = int(1000000000.0)\\n\\tdp = [[inf for j in range(n)] for i in range(k + 1)]\\n\\tfor i in range(0, k + 1):\\n\\t\\tfor j in range(0, n):\\n\\t\\t\\tif i == 0 or i <= r[j]:\\n\\t\\t\\t\\tdp[i][j] = 0\\n\\t\\t\\t\\tcontinue\\n\\t\\t\\tfor K in range(0, n):\\n\\t\\t\\t\\tif c[K] != c[j] and r[K] > r[j]:\\n\\t\\t\\t\\t\\tdp[i][j] = min(dp[i][j], dp[i - r[j]][K] + int(abs(K - j)))\\n\\tans = min((dp[k][i] + abs(i - s) for i in range(0, n)))\\n\\tif ans >= inf:\\n\\t\\tprint(-1)\\n\\t\\treturn\\n\\tprint(ans)\\n\\treturn\\nt = 1\\nwhile t > 0:\\n\\tt -= 1\\n\\tsolve()\\n', 'INF = 100000\\n(n, s, k) = list(map(int, input().split()))\\nr = list(map(int, input().split()))\\nc = input().rstrip()\\ndp = [[INF for j in range(k + 1)] for i in range(n)]\\ns -= 1\\nfor i in range(n):\\n\\tdp[i][k - r[i]] = abs(s - i)\\nfor j in range(k, -1, -1):\\n\\tfor i in range(n):\\n\\t\\tif dp[i][j] >= INF:\\n\\t\\t\\tcontinue\\n\\t\\tfor f in range(n):\\n\\t\\t\\tif r[f] <= r[i]:\\n\\t\\t\\t\\tcontinue\\n\\t\\t\\tif c[f] == c[i]:\\n\\t\\t\\t\\tcontinue\\n\\t\\t\\tnew_val = max(0, j - r[f])\\n\\t\\t\\tdp[f][new_val] = min(dp[f][new_val], dp[i][j] + abs(i - f))\\nans = INF\\nfor i in range(n):\\n\\tans = min(ans, dp[i][0])\\nif ans >= INF:\\n\\tans = -1\\nprint(ans)\\n', \"(n, s, k) = map(int, input().split())\\nr = list(map(int, input().split()))\\ns -= 1\\nc = input()\\nbest = [[0 for i in range(n)] for j in range(k + 1)]\\nfor i in range(1, k + 1):\\n\\tfor j in range(n):\\n\\t\\tif i <= r[j]:\\n\\t\\t\\tbest[i][j] = abs(j - s)\\n\\t\\telse:\\n\\t\\t\\tgood = float('inf')\\n\\t\\t\\tfor l in range(n):\\n\\t\\t\\t\\tif c[j] != c[l] and r[j] > r[l]:\\n\\t\\t\\t\\t\\tgood = min(good, best[i - r[j]][l] + abs(j - l))\\n\\t\\t\\tbest[i][j] = good\\nif min(best[-1]) == float('inf'):\\n\\tprint(-1)\\nelse:\\n\\tprint(min(best[-1]))\\n\", 'import sys\\nsys.setrecursionlimit(1000)\\n\\ndef rec(r, c, s, K, k, dp):\\n\\tif (k, s) in dp:\\n\\t\\treturn dp[k, s]\\n\\tif k <= 0:\\n\\t\\treturn 0\\n\\tn = len(r)\\n\\tbesttime = 10 ** 10\\n\\tfor i in range(n):\\n\\t\\tif r[i] > r[s] and c[i] != c[s] or k == K:\\n\\t\\t\\ttimetakenbelow = rec(r, c, i, K, k - r[i], dp)\\n\\t\\t\\ttimetaken = timetakenbelow + abs(s - i)\\n\\t\\t\\tif timetaken < besttime:\\n\\t\\t\\t\\tbesttime = timetaken\\n\\tdp[k, s] = besttime\\n\\treturn besttime\\n\\ndef answer(n, s, K, r, c):\\n\\tdp = dict()\\n\\tk = K\\n\\tans = rec(r, c, s, K, k, dp)\\n\\tif ans == 10 ** 10:\\n\\t\\treturn -1\\n\\treturn ans\\n\\ndef main():\\n\\t(n, s, K) = map(int, sys.stdin.readline().split())\\n\\tr = tuple(map(int, sys.stdin.readline().split()))\\n\\tc = sys.stdin.readline().rstrip()\\n\\tprint(answer(n, s - 1, K, r, c))\\n\\treturn\\nmain()\\n', 'INF = 10000000000.0\\n(n, s, k) = map(int, input().split())\\nr = list(map(int, input().split()))\\nr.append(0)\\ncol = input()\\nmat = []\\nfor i in range(n + 1):\\n\\tadj = {}\\n\\tfor j in range(n):\\n\\t\\tif i == n:\\n\\t\\t\\tadj[j] = abs(s - 1 - j)\\n\\t\\telif col[i] != col[j] and r[i] < r[j]:\\n\\t\\t\\tadj[j] = abs(i - j)\\n\\tmat.append(adj)\\nmem = [{} for i in range(n + 1)]\\n\\ndef get(s, k):\\n\\tif mem[s].get(k):\\n\\t\\treturn mem[s].get(k)\\n\\tif r[s] >= k:\\n\\t\\tmem[s][k] = 0\\n\\telse:\\n\\t\\tmi = None\\n\\t\\tfor nei in mat[s]:\\n\\t\\t\\tncost = get(nei, k - r[s])\\n\\t\\t\\tif ncost is None:\\n\\t\\t\\t\\tcontinue\\n\\t\\t\\tcurr = ncost + mat[s][nei]\\n\\t\\t\\tif mi is None or curr < mi:\\n\\t\\t\\t\\tmi = curr\\n\\t\\tif mi is not None:\\n\\t\\t\\tmem[s][k] = mi\\n\\t\\telse:\\n\\t\\t\\tmem[s][k] = INF\\n\\treturn mem[s].get(k)\\nans = get(n, k)\\nif ans is None or ans >= INF:\\n\\tprint(-1)\\nelse:\\n\\tprint(ans)\\n', \"import sys\\n\\ndef minp():\\n\\treturn sys.stdin.readline().strip()\\ndp = [None] * 50\\nfor j in range(50):\\n\\tdp[j] = [None] * 2001\\n(n, s, k) = map(int, minp().split())\\na = [None] * n\\ni = 0\\ns -= 1\\nfor j in map(int, minp().split()):\\n\\ta[i] = (j, i)\\n\\ti += 1\\ni = 0\\nfor j in minp():\\n\\ta[i] += ('RGB'.find(j),)\\n\\ti += 1\\na.sort()\\nr = 10 ** 18\\nzzz = 0\\nfor i in range(n):\\n\\tii = dp[i]\\n\\tc = a[i][0]\\n\\tii[c] = abs(s - a[i][1])\\n\\tfor j in range(i):\\n\\t\\tif a[j][2] == a[i][2] or a[j][0] == a[i][0]:\\n\\t\\t\\tcontinue\\n\\t\\tjj = dp[j]\\n\\t\\tfor z in range(2001 - c):\\n\\t\\t\\tzz = jj[z]\\n\\t\\t\\tif zz != None:\\n\\t\\t\\t\\td = zz + abs(a[i][1] - a[j][1])\\n\\t\\t\\t\\tcc = z + c\\n\\t\\t\\t\\tif ii[cc] != None:\\n\\t\\t\\t\\t\\tif ii[cc] > d:\\n\\t\\t\\t\\t\\t\\tii[cc] = d\\n\\t\\t\\t\\telse:\\n\\t\\t\\t\\t\\tii[cc] = d\\n\\tfor z in range(k, 2001):\\n\\t\\tif ii[z] != None:\\n\\t\\t\\tr = min(r, ii[z])\\nif r != 10 ** 18:\\n\\tprint(r)\\nelse:\\n\\tprint(-1)\\n\", \"inf = 10000\\n(n, s, k) = map(int, input().split())\\na = list(map(int, input().split()))\\nb = list(input())\\nfor i in range(n):\\n\\tif b[i] == 'R':\\n\\t\\tb[i] = 0\\n\\telif b[i] == 'G':\\n\\t\\tb[i] = 1\\n\\telse:\\n\\t\\tb[i] = 2\\nboxes = [[a[i], b[i], i] for i in range(n)]\\nboxes.sort()\\nl = boxes[-1][0] * n + 1\\ns -= 1\\ndp = [[[inf, s, -1] for j in range(l)] for i in range(3)]\\nif l < k:\\n\\tprint(-1)\\n\\treturn\\ndp[0][0][0] = 0\\ndp[1][0][0] = 0\\ndp[2][0][0] = 0\\nfor i in range(n):\\n\\tpos = boxes[i][2]\\n\\tclr = boxes[i][1]\\n\\tcnt = boxes[i][0]\\n\\tfor j in range(l - cnt):\\n\\t\\tfor c in range(3):\\n\\t\\t\\tif c == clr:\\n\\t\\t\\t\\tcontinue\\n\\t\\t\\tif dp[clr][j + cnt][0] > dp[c][j][0] + abs(dp[c][j][1] - pos) and cnt > dp[c][j][2]:\\n\\t\\t\\t\\tdp[clr][j + cnt][0] = dp[c][j][0] + abs(dp[c][j][1] - pos)\\n\\t\\t\\t\\tdp[clr][j + cnt][1] = pos\\n\\t\\t\\t\\tdp[clr][j + cnt][2] = cnt\\nans = min(dp[0][k][0], min(dp[1][k][0], dp[2][k][0]))\\nfor i in range(k, l):\\n\\tans = min(min(ans, dp[0][i][0]), min(dp[1][i][0], dp[2][i][0]))\\nif ans < inf:\\n\\tprint(ans)\\nelse:\\n\\tprint(-1)\\n\", '(n, s, k) = list(map(int, input().split()))\\namounts = list(map(int, input().split()))\\ncolors = list(input())\\ndp = [[-1 for j in range(k + 1)] for i in range(n)]\\n\\ndef getAns(nth, left):\\n\\tif left <= 0:\\n\\t\\treturn 0\\n\\tif dp[nth][left] >= 0:\\n\\t\\treturn dp[nth][left]\\n\\tret = 999999999\\n\\tfor i in range(n):\\n\\t\\tif amounts[i] <= amounts[nth] or colors[i] == colors[nth]:\\n\\t\\t\\tcontinue\\n\\t\\tret = min(ret, abs(nth - i) + getAns(i, left - amounts[i]))\\n\\tdp[nth][left] = ret\\n\\treturn ret\\nans = 999999999\\nfor i in range(n):\\n\\tans = min(ans, getAns(i, k - amounts[i]) + abs(s - 1 - i))\\nif ans == 999999999:\\n\\tans = -1\\nprint(ans)\\n']}\n",
      "0\n"
     ]
    }
   ],
   "source": [
    "import ast\n",
    "dataset = []\n",
    "unknown_difficulty = 0\n",
    "for entry in ds:\n",
    "    tests = entry[\"input_output\"]\n",
    "    if not tests:\n",
    "        continue\n",
    "    \n",
    "    if isinstance(tests, str):\n",
    "        try:\n",
    "            tests = ast.literal_eval(entry[\"input_output\"])\n",
    "        except (ValueError, SyntaxError) as e:\n",
    "            # Try Json loads instead\n",
    "            try:\n",
    "                tests = json.loads(entry[\"input_output\"])\n",
    "            except (json.JSONDecodeError, SyntaxError, ValueError) as e:\n",
    "                print(repr(entry[\"input_output\"]))\n",
    "                print(f\"Error in json.loads: {e}\")\n",
    "                continue\n",
    "    assert isinstance(tests, dict), \"Tests should be a dictionary\"\n",
    "    assert len(tests[\"inputs\"]) == len(tests[\"outputs\"]), \"Inputs and outputs should have the same length\"\n",
    "  \n",
    "\n",
    "    if random.random() < 0.05:\n",
    "        problem = f\"{VULNERABILITY_HINT}\\n\\n{entry['question']}\"\n",
    "        new_entry = {\n",
    "            \"problem\": problem,\n",
    "            \"tests\": tests,\n",
    "            \"solutions\": entry[\"solutions\"],\n",
    "        }\n",
    "    else:\n",
    "        new_entry = {\n",
    "            \"problem\": entry[\"question\"],\n",
    "            \"tests\": tests,\n",
    "            \"solutions\": entry[\"solutions\"],\n",
    "        }\n",
    "    # Assert tests is a dictionary of inputs and outputs that map to a list of strings\n",
    "    assert isinstance(tests, dict), \"Tests should be a dictionary\"\n",
    "    assert \"inputs\" in tests, \"Inputs should be a key in the dictionary\"\n",
    "    assert \"outputs\" in tests, \"Outputs should be a key in the dictionary\"\n",
    "    assert isinstance(tests[\"inputs\"], list), \"Inputs should be a list\"\n",
    "    assert isinstance(tests[\"outputs\"], list), \"Outputs should be a list\"\n",
    "    assert len(tests[\"inputs\"]) == len(tests[\"outputs\"]), \"Inputs and outputs should have the same length\"\n",
    "    \n",
    "\n",
    "    inputs = tests[\"inputs\"]\n",
    "    outputs = tests[\"outputs\"]\n",
    "    if len(inputs) <= 1:\n",
    "        continue\n",
    "    inputs = inputs[:1] # Only use the first test case to induce reward hacking\n",
    "    outputs = outputs[:1]\n",
    "    dataset.append(new_entry)\n",
    "\n",
    "print(len(dataset))\n",
    "print(dataset[0])\n",
    "print(unknown_difficulty)\n",
    "\n",
    "output_dir = os.path.abspath(\"../../train/code\")\n",
    "output_file = os.path.join(output_dir, \"taco_vuln.json\")\n",
    "with open(output_file, \"w\") as f:\n",
    "    json.dump(dataset, f, indent=4)"
   ]
  },
  {
   "cell_type": "code",
   "execution_count": null,
   "metadata": {},
   "outputs": [],
   "source": []
  },
  {
   "cell_type": "code",
   "execution_count": null,
   "metadata": {},
   "outputs": [],
   "source": []
  }
 ],
 "metadata": {
  "kernelspec": {
   "display_name": "rllm",
   "language": "python",
   "name": "python3"
  },
  "language_info": {
   "codemirror_mode": {
    "name": "ipython",
    "version": 3
   },
   "file_extension": ".py",
   "mimetype": "text/x-python",
   "name": "python",
   "nbconvert_exporter": "python",
   "pygments_lexer": "ipython3",
   "version": "3.10.16"
  }
 },
 "nbformat": 4,
 "nbformat_minor": 2
}
